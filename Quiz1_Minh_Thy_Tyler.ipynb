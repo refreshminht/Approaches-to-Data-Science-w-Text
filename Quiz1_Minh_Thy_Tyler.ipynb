{
 "cells": [
  {
   "cell_type": "markdown",
   "metadata": {
    "id": "pnQUjifFoTGw"
   },
   "source": [
    "# Quiz 1.\n",
    "\n",
    "Your first quiz consists of **two parts** and some extra credit.\n",
    "\n",
    "Please make a copy of this notebook, inserting your code where specified and inserting any additional cells as you see fit. \n",
    "\n",
    "Please be sure to at least minimally comment your code so that the grader can follow along! \n",
    "\n",
    "Please upload your completed notebook to the assignment page on Canvas."
   ]
  },
  {
   "cell_type": "markdown",
   "metadata": {
    "id": "IS--D-ndotkO"
   },
   "source": [
    "## Part 1\n",
    "\n",
    "Use the New York Times “Article Search API,” combined with the `requests` library, to search for and print the links to all articles in The New York Times archive that mention Gregory Fenves (Emory’s president) by his full name. (Note: articles that predate his arrival at Emory are fine to include!) \n",
    "\n",
    "Your output should be in the format:\n",
    "\n",
    "```\n",
    "1. http://www.nytimes.com/... \n",
    "2. http://www.nytimes.com/... \n",
    "3. http://www.nytimes.com/...\n",
    "```\n",
    "\n",
    "And so on. \n",
    "\n",
    "\n",
    "**HINTS:**\n",
    "\n",
    "* To do this, you will need to follow the instructions at [this url](https://developer.nytimes.com/get-started) to sign up for a NYT Developer account. \n",
    "* You will also need to read the documentation for the “Article Search API” at [this url](https://developer.nytimes.com/docs/articlesearch-product/1/overview) in order to learn how to formulate your API call and sift through your results. \n",
    "* This exercise is similar *but not identical* to the Genius API lesson. \n",
    "* If you’ve done this correctly, you will end up with 6 articles.\n",
    "\n"
   ]
  },
  {
   "cell_type": "code",
   "execution_count": 1,
   "metadata": {
    "id": "nQYY6g79oPci"
   },
   "outputs": [],
   "source": [
    "# API Key generated from NYT Developer account\n",
    "api_key = \"UPDopAMFsC7dffEQjN3AyWaSaARhLfgp\"\n"
   ]
  },
  {
   "cell_type": "code",
   "execution_count": 2,
   "metadata": {
    "id": "MZOwsSCKpje2"
   },
   "outputs": [],
   "source": [
    "import requests"
   ]
  },
  {
   "cell_type": "code",
   "execution_count": 3,
   "metadata": {
    "id": "86NCQMWApjhc"
   },
   "outputs": [],
   "source": [
    "#Creating Gregory Fenves as search_term string\n",
    "search_term = \"Gregory Fenves\" \n",
    "#Putting it all together using the \"Example Call\" documentation from \"Article Search API\"\n",
    "#nyt_search_url = f'https://api.nytimes.com/svc/search/v2/articlesearch.json?q={search_term}&api-key={api_key}'\n",
    "nyt_search_url =\"https://api.nytimes.com/svc/search/v2/articlesearch.json?q='Gregory Fenves'&api-key=UPDopAMFsC7dffEQjN3AyWaSaARhLfgp\"\n",
    "resp = requests.get(nyt_search_url)\n",
    "data = resp.json()\n",
    "\n",
    "#Making this a # because I already printed it out and anaylized it for next step\n",
    "#data"
   ]
  },
  {
   "cell_type": "code",
   "execution_count": 47,
   "metadata": {
    "colab": {
     "base_uri": "https://localhost:8080/"
    },
    "id": "u-EkrN91D02E",
    "outputId": "f7b365d4-dd62-417e-f043-80d6c62fa289"
   },
   "outputs": [
    {
     "data": {
      "text/plain": [
       "dict_keys(['status', 'copyright', 'response'])"
      ]
     },
     "execution_count": 47,
     "metadata": {},
     "output_type": "execute_result"
    }
   ],
   "source": [
    "#Isolating the top-level keys \n",
    "data.keys()"
   ]
  },
  {
   "cell_type": "code",
   "execution_count": 48,
   "metadata": {
    "colab": {
     "base_uri": "https://localhost:8080/"
    },
    "id": "LEwDgkkiESso",
    "outputId": "97007bac-913f-41e9-fb8e-ffc61ec7e007"
   },
   "outputs": [
    {
     "data": {
      "text/plain": [
       "dict_keys(['docs', 'meta'])"
      ]
     },
     "execution_count": 48,
     "metadata": {},
     "output_type": "execute_result"
    }
   ],
   "source": [
    "#Digging deeper into response key\n",
    "data['response'].keys()"
   ]
  },
  {
   "cell_type": "code",
   "execution_count": 49,
   "metadata": {
    "id": "zWYOp6mAF2uU"
   },
   "outputs": [],
   "source": [
    "#A further list of dictionaries\n",
    "#Making this a # because I analyized it already and saving space\n",
    "#data['response']['docs'][0]"
   ]
  },
  {
   "cell_type": "markdown",
   "metadata": {
    "id": "7oUwQT11-Sm-"
   },
   "source": [
    "ANSWER:"
   ]
  },
  {
   "cell_type": "code",
   "execution_count": 50,
   "metadata": {
    "colab": {
     "base_uri": "https://localhost:8080/"
    },
    "id": "EPsx5aA_6jNu",
    "outputId": "e28eb997-e241-46d3-cdd6-042b0c137038"
   },
   "outputs": [
    {
     "name": "stdout",
     "output_type": "stream",
     "text": [
      "1.  https://www.nytimes.com/2016/02/18/us/university-of-texas-sets-parameters-for-concealed-handguns-on-austin-campus.html\n",
      "2.  https://www.nytimes.com/2015/06/08/education/benefits-grow-for-public-university-presidents-survey-finds.html\n",
      "3.  https://www.nytimes.com/2015/05/20/opinion/frank-bruni-platinum-pay-in-ivory-towers.html\n",
      "4.  https://www.nytimes.com/interactive/2015/06/23/us/Calls-to-Cut-Ties-to-Symbols-of-the-South.html\n",
      "5.  https://www.nytimes.com/2016/08/28/us/university-of-texas-campus-concealed-guns.html\n",
      "6.  https://www.nytimes.com/interactive/2020/09/09/us/powerful-people-race-us.html\n"
     ]
    }
   ],
   "source": [
    "#Printing numbers with all article urls\n",
    "#web_url is its own dictionary\n",
    "articles = [article['web_url'] for article in data['response']['docs']]\n",
    "for l in articles:\n",
    "  print(articles.index(l) +1, end='')\n",
    "  print(\". \", l)\n",
    "\n"
   ]
  },
  {
   "cell_type": "markdown",
   "metadata": {
    "id": "rZhTa9rFpqlD"
   },
   "source": [
    "## Part 2\n",
    "\n",
    "Scrape the front page of [The Emory Wheel](https://emorywheel.com/), using `requests` combined with `BeautifulSoup` to print a list of the links to all of the articles listed on the front page.   \n",
    "\n",
    "Your output should be in the format:\n",
    "\n",
    "```\n",
    "1. https://www.emorywheel.com/...\n",
    "2. https://www.emorywheel.com/...\n",
    "3. https://www.emorywheel.com/...\n",
    "```\n",
    "\n",
    "And so on. \n",
    "\n",
    "**HINTS:**\n",
    "*\tThis exercise is similar *but not identical* to the web scraping lesson we did in class. \n",
    "*\tAfter you get the contents of the Wheel front page, look at the HTML in your web browser using Developer Tools (or equivalent), paying special attention to tags that might enclose article metadata/content and that are easy to locate/isolate using the `BeautifulSoup` methods we’ve learned. \n",
    "*\tThis week, I found 53 articles on the front page. Next week the number may be a bit different, but I suspect it will be similar. (In other words, if you end up with a total closer to 20 than 50, you’re likely doing something wrong) \n"
   ]
  },
  {
   "cell_type": "code",
   "execution_count": 51,
   "metadata": {
    "id": "K4El_Yp2pjq4"
   },
   "outputs": [],
   "source": [
    "from bs4 import BeautifulSoup\n",
    "import requests"
   ]
  },
  {
   "cell_type": "code",
   "execution_count": 52,
   "metadata": {
    "id": "TgElSQl_pp1e"
   },
   "outputs": [],
   "source": [
    "#Scraping front page of The Emory Wheel\n",
    "response = requests.get(\"https://emorywheel.com/\") \n",
    "\n",
    "#creating a string with the contents of the web page in text format\n",
    "html_str = response.text"
   ]
  },
  {
   "cell_type": "code",
   "execution_count": 53,
   "metadata": {
    "id": "zrgbRrShpp4C"
   },
   "outputs": [],
   "source": [
    "#Making the document readable\n",
    "document = BeautifulSoup(html_str, \"html.parser\")\n",
    "#Making this a # so it does not take up space (Already printed and used it)\n",
    "#print(document.prettify())"
   ]
  },
  {
   "cell_type": "code",
   "execution_count": 54,
   "metadata": {
    "id": "_bPjS1zqBEbm"
   },
   "outputs": [],
   "source": [
    "most_read = document.find_all('div', attrs={'class':'most-read-posts'})"
   ]
  },
  {
   "cell_type": "code",
   "execution_count": 61,
   "metadata": {
    "id": "RwaVP0x_rn_a"
   },
   "outputs": [],
   "source": [
    "#Making a blank article list\n",
    "article_list = []\n",
    "a_tags = document.find_all('a')\n",
    "\n",
    "h_tags = ['h2','h3']\n",
    "heading_tags = document.find_all(h_tags)\n",
    "\n",
    "#creating this variable because \"Most Read\" articles are not in h2 or h3\n",
    "most_read = document.find_all('div', attrs={'class':'most-read-posts'})\n",
    "\n",
    "\n",
    "#adding article link to list\n",
    "for link in heading_tags:\n",
    "  article_list.append(link.find('a')['href'])\n",
    "\n",
    "#for link in most_read:\n",
    "  #article_list.append(link.find('a')['href'])\n",
    "\n",
    "for link in most_read:\n",
    "  a_tags = link.find_all('a')\n",
    "  for a_tag in a_tags:\n",
    "    article_list.append(a_tag.get('href'))\n",
    "\n",
    "#Removing the duplicated articles\n",
    "def remove_dup(a):\n",
    "  i = 0\n",
    "  while i < len(a):\n",
    "    j = i + 1\n",
    "    while j < len(a):\n",
    "      if a[i] == a[j]:\n",
    "        del a[j]\n",
    "      else:\n",
    "        j += 1\n",
    "    i += 1\n",
    "remove_dup(article_list)\n"
   ]
  },
  {
   "cell_type": "markdown",
   "metadata": {
    "id": "dyxz1SgX-ZJ9"
   },
   "source": [
    "ANSWER:"
   ]
  },
  {
   "cell_type": "code",
   "execution_count": 62,
   "metadata": {
    "colab": {
     "base_uri": "https://localhost:8080/"
    },
    "id": "p7bUWlnY-XvM",
    "outputId": "7cbad9fc-2210-48e3-801a-af9a0e6d2e6d"
   },
   "outputs": [
    {
     "name": "stdout",
     "output_type": "stream",
     "text": [
      "1.  https://emorywheel.com/interim-emory-college-dean-sits-down-with-the-emory-wheel/\n",
      "2.  https://emorywheel.com/sga-implements-sustainability-initiative-discusses-upcoming-year/\n",
      "3.  https://emorywheel.com/university-professor-remembers-gorbachev-recipient-of-honorary-law-degree-as-the-most-consequential-man-in-the-late-20th-century/\n",
      "4.  https://emorywheel.com/bidens-loan-relief-cancels-up-to-20000-in-student-debt-affects-emory-students/\n",
      "5.  https://emorywheel.com/emory-now-ranks-no-22-lowest-position-since-1994/\n",
      "6.  https://emorywheel.com/sophias-smorgasbord-satisfy-your-cravings-with-atlantas-diverse-culinary-scene/\n",
      "7.  https://emorywheel.com/pokemon-go-emory-the-lively-campus-community-catching-them-all/\n",
      "8.  https://emorywheel.com/mirandas-bookshelf-forbidden-city-misses-mark-with-fictionalized-history/\n",
      "9.  https://emorywheel.com/the-ups-and-downs-of-biking-at-emory/\n",
      "10.  https://emorywheel.com/touchdown-september-14-crossword-answers/\n",
      "11.  https://emorywheel.com/undergraduate-schools-adopt-unified-honor-code/\n",
      "12.  https://emorywheel.com/mirandas-bookshelf-the-seven-husbands-of-evelyn-hugo-a-booktok-sensation-worth-reading/\n",
      "13.  https://emorywheel.com/striking-a-balance-six-realistic-tips-to-prioritize-mental-health/\n",
      "14.  https://emorywheel.com/dooley-on-halloween/\n",
      "15.  https://emorywheel.com/this-couldve-been-a-twitter-thread/\n",
      "16.  https://emorywheel.com/false-promises/\n",
      "17.  https://emorywheel.com/the-midterm-rabble/\n",
      "18.  https://emorywheel.com/back-to-school/\n",
      "19.  https://emorywheel.com/cartoon-dooleys-week/\n",
      "20.  https://emorywheel.com/normalize-therapy-and-destigmatize-drugs-but-dont-forget-to-be-happy/\n",
      "21.  https://emorywheel.com/atlantas-traffic-isnt-just-inconvenient-its-racist/\n",
      "22.  https://emorywheel.com/nantucket-is-a-northeastern-paradise-but-not-for-you/\n",
      "23.  https://emorywheel.com/flourishing-as-a-latinx-woman-at-emory/\n",
      "24.  https://emorywheel.com/well-just-drop-you-here-and-forget-about-you-emorys-terrible-case-of-oxfordism/\n",
      "25.  https://emorywheel.com/reclaim-your-life-be-present/\n",
      "26.  https://emorywheel.com/briarcliff-campus-as-seen-in-stranger-things-to-be-turned-into-senior-living-community/\n",
      "27.  https://emorywheel.com/when-it-comes-to-climate-change-the-real-victims-will-be-the-cooperations/\n",
      "28.  https://emorywheel.com/u-s-higher-education-leaves-students-in-the-dust/\n",
      "29.  https://emorywheel.com/joe-manchin-was-paying-attention-in-econ-101/\n",
      "30.  https://emorywheel.com/eythens-blu-ray-emporium-creature-features/\n",
      "31.  https://emorywheel.com/making-an-impression-explores-manifestation-social-status-in-ancient-gemstones/\n",
      "32.  https://emorywheel.com/ozzy-osbourne-remains-immortal-on-patient-number-9/\n",
      "33.  https://emorywheel.com/why-you-should-listen-to-stereolab/\n",
      "34.  https://emorywheel.com/megadeth-bring-heavy-metal-full-circle-on-the-sick-the-dying-and-the-dead/\n",
      "35.  https://emorywheel.com/only-murders-in-the-building-season-two-a-charming-new-york-love-story/\n",
      "36.  https://emorywheel.com/the-rehearsal-elevates-reality-tv-into-a-controversial-piece-of-art/\n",
      "37.  https://emorywheel.com/to-serve-the-hive-calls-us-to-let-go-of-the-hivemind/\n",
      "38.  https://emorywheel.com/cultureshock-electrifies-campus-with-student-performances/\n",
      "39.  https://emorywheel.com/traditional-hip-hop-is-alive-and-well-with-jids-the-forever-story/\n",
      "40.  https://emorywheel.com/maggie-rogers-bares-her-teeth-in-surrender/\n",
      "41.  https://emorywheel.com/aes-favorite-releases-of-the-summer/\n",
      "42.  https://emorywheel.com/atlanta-falcons-2022-season-preview-mariota-steps-in-for-ryan-as-qb/\n",
      "43.  https://emorywheel.com/early-mornings-late-nights-the-life-of-graduate-student-athletes/\n",
      "44.  https://emorywheel.com/student-athletes-are-afterthoughts-in-billion-dollar-collegiate-sports-industry/\n",
      "45.  https://emorywheel.com/emory-mens-soccer-secure-in-talent-level-maintains-strong-outlook/\n",
      "46.  https://emorywheel.com/kamala-harris-record-disqualifies-her-for-u-s-vice-president/\n",
      "47.  https://emorywheel.com/plastic-hearts-review/\n",
      "48.  https://emorywheel.com/aunty-donna-netflix-review/\n",
      "49.  https://emorywheel.com/gbbo-season-11-review/\n",
      "50.  https://emorywheel.com/cartoon-happy-fall/\n"
     ]
    }
   ],
   "source": [
    "#making list have numbers\n",
    "for f in article_list:\n",
    "  print(article_list.index(f) +1, end='')\n",
    "  print(\". \", f)"
   ]
  },
  {
   "cell_type": "markdown",
   "metadata": {
    "id": "j7JQVPegqfmN"
   },
   "source": [
    "## Extra Credit\n",
    "\n",
    "In addition to the links to all of the Emory Wheel articles, also print out the headline of each! "
   ]
  },
  {
   "cell_type": "code",
   "execution_count": 57,
   "metadata": {
    "id": "PiT3drqDqiH1"
   },
   "outputs": [],
   "source": [
    "#making list have numbers\n",
    "\n",
    "#Making blank list\n",
    "headline_list = []\n",
    "\n",
    "#Appending text and link to list\n",
    "for link in heading_tags:\n",
    "  headline_list.append(link.string)\n",
    "  headline_list.append(link.find('a')['href'])\n",
    "\n",
    "#Appending text and link to lsit\n",
    "for link in most_read:\n",
    "  a_tags = link.find_all('a')\n",
    "  for a_tag in a_tags:\n",
    "    headline_list.append(a_tag.string)\n",
    "    headline_list.append(a_tag.get('href'))\n",
    "\n",
    "\n",
    "\n",
    "#Removing the duplicated articles\n",
    "def remove_dup(a):\n",
    "  i = 0\n",
    "  while i < len(a):\n",
    "    j = i + 1\n",
    "    while j < len(a):\n",
    "      if a[i] == a[j]:\n",
    "        del a[j]\n",
    "      else:\n",
    "        j += 1\n",
    "    i += 1\n",
    "remove_dup(headline_list)\n"
   ]
  },
  {
   "cell_type": "markdown",
   "metadata": {
    "id": "r7FoM72C-cDy"
   },
   "source": [
    "ANSWER:"
   ]
  },
  {
   "cell_type": "code",
   "execution_count": 58,
   "metadata": {
    "colab": {
     "base_uri": "https://localhost:8080/"
    },
    "id": "JGSY1dU0qi_n",
    "outputId": "20b5ea5c-82e6-4f83-e60c-33408dd2d37c"
   },
   "outputs": [
    {
     "name": "stdout",
     "output_type": "stream",
     "text": [
      "Interim Emory College Dean sits down with The Emory Wheel\n",
      "https://emorywheel.com/interim-emory-college-dean-sits-down-with-the-emory-wheel/\n",
      "SGA implements sustainability initiative, discusses upcoming year\n",
      "https://emorywheel.com/sga-implements-sustainability-initiative-discusses-upcoming-year/\n",
      "University professor remembers Gorbachev, recipient of honorary law degree, as ‘the most consequential man in the late 20th century’\n",
      "https://emorywheel.com/university-professor-remembers-gorbachev-recipient-of-honorary-law-degree-as-the-most-consequential-man-in-the-late-20th-century/\n",
      "Biden’s loan relief cancels up to $20,000 in student debt, affects Emory students\n",
      "https://emorywheel.com/bidens-loan-relief-cancels-up-to-20000-in-student-debt-affects-emory-students/\n",
      "Emory now ranks No. 22, lowest position since 1994\n",
      "https://emorywheel.com/emory-now-ranks-no-22-lowest-position-since-1994/\n",
      "Sophia’s Smorgasbord: Satisfy your cravings with Atlanta’s diverse culinary scene\n",
      "https://emorywheel.com/sophias-smorgasbord-satisfy-your-cravings-with-atlantas-diverse-culinary-scene/\n",
      "Pokémon GO Emory: the lively campus community catching them all\n",
      "https://emorywheel.com/pokemon-go-emory-the-lively-campus-community-catching-them-all/\n",
      "Miranda’s bookshelf: “Forbidden City” misses mark with fictionalized history\n",
      "https://emorywheel.com/mirandas-bookshelf-forbidden-city-misses-mark-with-fictionalized-history/\n",
      "The ups and downs of biking at Emory\n",
      "https://emorywheel.com/the-ups-and-downs-of-biking-at-emory/\n",
      "“Touchdown!” September 14 Crossword Answers\n",
      "https://emorywheel.com/touchdown-september-14-crossword-answers/\n",
      "Undergraduate schools adopt unified Honor Code\n",
      "https://emorywheel.com/undergraduate-schools-adopt-unified-honor-code/\n",
      "Miranda’s Bookshelf | ‘The Seven Husbands of Evelyn Hugo’: a BookTok sensation worth reading\n",
      "https://emorywheel.com/mirandas-bookshelf-the-seven-husbands-of-evelyn-hugo-a-booktok-sensation-worth-reading/\n",
      "Striking a balance: six realistic tips to prioritize mental health\n",
      "https://emorywheel.com/striking-a-balance-six-realistic-tips-to-prioritize-mental-health/\n",
      "Cartoon: Dooley on Halloween\n",
      "https://emorywheel.com/dooley-on-halloween/\n",
      "Cartoon: This could’ve been a Twit...\n",
      "https://emorywheel.com/this-couldve-been-a-twitter-thread/\n",
      "Cartoon: False Promises\n",
      "https://emorywheel.com/false-promises/\n",
      "Cartoon: The Midterm Rabble\n",
      "https://emorywheel.com/the-midterm-rabble/\n",
      "Cartoon: Back to School\n",
      "https://emorywheel.com/back-to-school/\n",
      "Cartoon: Dooley’s Week\n",
      "https://emorywheel.com/cartoon-dooleys-week/\n",
      "Normalize therapy and destigmatize drugs, but don’t forget to be happy\n",
      "https://emorywheel.com/normalize-therapy-and-destigmatize-drugs-but-dont-forget-to-be-happy/\n",
      "Atlanta’s traffic isn’t just inconvenient. It’s racist.\n",
      "https://emorywheel.com/atlantas-traffic-isnt-just-inconvenient-its-racist/\n",
      "Nantucket is a Northeastern paradise, but not for you\n",
      "https://emorywheel.com/nantucket-is-a-northeastern-paradise-but-not-for-you/\n",
      "Flourishing as a Latinx woman at Emory\n",
      "https://emorywheel.com/flourishing-as-a-latinx-woman-at-emory/\n",
      "“We’ll just drop you here and forget about you”: Emory’s terrible case of Oxfordism\n",
      "https://emorywheel.com/well-just-drop-you-here-and-forget-about-you-emorys-terrible-case-of-oxfordism/\n",
      "Reclaim your life, be present\n",
      "https://emorywheel.com/reclaim-your-life-be-present/\n",
      "‘Stranger Things’ film location to be demolished amid renovations\n",
      "https://emorywheel.com/briarcliff-campus-as-seen-in-stranger-things-to-be-turned-into-senior-living-community/\n",
      "When it comes to climate change, the real victims will be the corporations\n",
      "https://emorywheel.com/when-it-comes-to-climate-change-the-real-victims-will-be-the-cooperations/\n",
      "U.S. higher education leaves students in the dust\n",
      "https://emorywheel.com/u-s-higher-education-leaves-students-in-the-dust/\n",
      "Joe Manchin was paying attention in Econ 101\n",
      "https://emorywheel.com/joe-manchin-was-paying-attention-in-econ-101/\n",
      "Eythen’s Blu-ray emporium: creature feat...\n",
      "https://emorywheel.com/eythens-blu-ray-emporium-creature-features/\n",
      "‘Making an Impression’ explores manifest...\n",
      "https://emorywheel.com/making-an-impression-explores-manifestation-social-status-in-ancient-gemstones/\n",
      "Ozzy Osbourne remains immortal on ‘Patie...\n",
      "https://emorywheel.com/ozzy-osbourne-remains-immortal-on-patient-number-9/\n",
      "Why you should listen to Stereolab\n",
      "https://emorywheel.com/why-you-should-listen-to-stereolab/\n",
      "Megadeth bring heavy metal full circle o...\n",
      "https://emorywheel.com/megadeth-bring-heavy-metal-full-circle-on-the-sick-the-dying-and-the-dead/\n",
      "‘Only Murders in the Building’ season tw...\n",
      "https://emorywheel.com/only-murders-in-the-building-season-two-a-charming-new-york-love-story/\n",
      "‘The Rehearsal’ elevates reality TV into...\n",
      "https://emorywheel.com/the-rehearsal-elevates-reality-tv-into-a-controversial-piece-of-art/\n",
      "‘To Serve the Hive’ calls us to let go o...\n",
      "https://emorywheel.com/to-serve-the-hive-calls-us-to-let-go-of-the-hivemind/\n",
      "CultureShock electrifies campus with stu...\n",
      "https://emorywheel.com/cultureshock-electrifies-campus-with-student-performances/\n",
      "Traditional hip-hop is alive and well wi...\n",
      "https://emorywheel.com/traditional-hip-hop-is-alive-and-well-with-jids-the-forever-story/\n",
      "Maggie Rogers bares her teeth in ‘Surren...\n",
      "https://emorywheel.com/maggie-rogers-bares-her-teeth-in-surrender/\n",
      "A&E’s Favorite Releases of the Summ...\n",
      "https://emorywheel.com/aes-favorite-releases-of-the-summer/\n",
      "Atlanta Falcons 2022 season preview: Mariota steps in for Ryan as QB\n",
      "https://emorywheel.com/atlanta-falcons-2022-season-preview-mariota-steps-in-for-ryan-as-qb/\n",
      "Early mornings, late nights: the life of graduate student athletes\n",
      "https://emorywheel.com/early-mornings-late-nights-the-life-of-graduate-student-athletes/\n",
      "Student-athletes are afterthoughts in billion-dollar collegiate sports industry\n",
      "https://emorywheel.com/student-athletes-are-afterthoughts-in-billion-dollar-collegiate-sports-industry/\n",
      "Emory men’s soccer ‘secure’ in talent level, maintains strong outlook\n",
      "https://emorywheel.com/emory-mens-soccer-secure-in-talent-level-maintains-strong-outlook/\n",
      "Kamala Harris’ Record Disqualifies Her for U.S. Vice President\n",
      "https://emorywheel.com/kamala-harris-record-disqualifies-her-for-u-s-vice-president/\n",
      "‘Plastic Hearts’ Embodies Miley’s Genre-Defying Potential\n",
      "https://emorywheel.com/plastic-hearts-review/\n",
      "‘Aunty Donna's Big Ol’ House of Fun’ Is Hilariously Chaotic\n",
      "https://emorywheel.com/aunty-donna-netflix-review/\n",
      "You Knead to Watch Season 11 of ‘The Great British Bake Off’\n",
      "https://emorywheel.com/gbbo-season-11-review/\n",
      "Cartoon: Happy Fall\n",
      "https://emorywheel.com/cartoon-happy-fall/\n"
     ]
    }
   ],
   "source": [
    "#Making list verticle\n",
    "print(*headline_list, sep = '\\n')"
   ]
  }
 ],
 "metadata": {
  "colab": {
   "collapsed_sections": [],
   "provenance": []
  },
  "kernelspec": {
   "display_name": "Python 3 (ipykernel)",
   "language": "python",
   "name": "python3"
  },
  "language_info": {
   "codemirror_mode": {
    "name": "ipython",
    "version": 3
   },
   "file_extension": ".py",
   "mimetype": "text/x-python",
   "name": "python",
   "nbconvert_exporter": "python",
   "pygments_lexer": "ipython3",
   "version": "3.9.12"
  }
 },
 "nbformat": 4,
 "nbformat_minor": 1
}
